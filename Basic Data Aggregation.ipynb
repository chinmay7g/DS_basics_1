{
 "cells": [
  {
   "cell_type": "code",
   "execution_count": 1,
   "metadata": {},
   "outputs": [],
   "source": [
    "#amazing things will follow\n",
    "\n",
    "import numpy as np"
   ]
  },
  {
   "cell_type": "code",
   "execution_count": 5,
   "metadata": {},
   "outputs": [
    {
     "name": "stdout",
     "output_type": "stream",
     "text": [
      "Sales for November month:\n",
      " [[ 50  92 176 128 117 167  48]\n",
      " [ 97 114 135  67 161 192  93]\n",
      " [152 160 197  25 100  80  31]\n",
      " [ 44  69  94  81 177 137  59]]\n"
     ]
    }
   ],
   "source": [
    "np.random.seed(7)\n",
    "november_sales = np.random.randint(25,200, size=(4,7))\n",
    "print('Sales for November month:\\n',november_sales)"
   ]
  },
  {
   "cell_type": "code",
   "execution_count": 6,
   "metadata": {},
   "outputs": [],
   "source": [
    "#this gave sales for 7 days a week, 4 times; a month\n"
   ]
  },
  {
   "cell_type": "code",
   "execution_count": 7,
   "metadata": {},
   "outputs": [
    {
     "name": "stdout",
     "output_type": "stream",
     "text": [
      "Mean: 108.67857142857143\n"
     ]
    }
   ],
   "source": [
    "#mean sales; for coffees sold per day in November month\n",
    "print('Mean:', november_sales.mean())"
   ]
  },
  {
   "cell_type": "code",
   "execution_count": 8,
   "metadata": {},
   "outputs": [
    {
     "name": "stdout",
     "output_type": "stream",
     "text": [
      "Mean for Monday: 108.75\n"
     ]
    }
   ],
   "source": [
    "#mean sales for Mondays only\n",
    "print('Mean for Monday:', november_sales[:,1].mean())"
   ]
  },
  {
   "cell_type": "code",
   "execution_count": 10,
   "metadata": {},
   "outputs": [
    {
     "name": "stdout",
     "output_type": "stream",
     "text": [
      "Maximum sale of: 197\n"
     ]
    }
   ],
   "source": [
    "#day with max sale in the entire month\n",
    "print('Maximum sale of:', november_sales.max())"
   ]
  },
  {
   "cell_type": "code",
   "execution_count": 14,
   "metadata": {},
   "outputs": [
    {
     "name": "stdout",
     "output_type": "stream",
     "text": [
      "Day of maximum sale was January 17\n"
     ]
    }
   ],
   "source": [
    "#now we want to find which day of the month was this in\n",
    "print('Day of maximum sale was January', (november_sales.argmax()+1))"
   ]
  },
  {
   "cell_type": "code",
   "execution_count": null,
   "metadata": {},
   "outputs": [],
   "source": []
  }
 ],
 "metadata": {
  "kernelspec": {
   "display_name": "Python 3",
   "language": "python",
   "name": "python3"
  },
  "language_info": {
   "codemirror_mode": {
    "name": "ipython",
    "version": 3
   },
   "file_extension": ".py",
   "mimetype": "text/x-python",
   "name": "python",
   "nbconvert_exporter": "python",
   "pygments_lexer": "ipython3",
   "version": "3.7.4"
  }
 },
 "nbformat": 4,
 "nbformat_minor": 2
}
